{
 "cells": [
  {
   "cell_type": "markdown",
   "metadata": {},
   "source": [
    "# 作業\n",
    "\n",
    "思考一下我們前面有提到圖片是矩陣，但維度可能會不一樣\n",
    "例如灰階圖只有兩個維度，RGB 彩圖則有 3 個維度\n",
    "\n",
    "假如今天我們把 RGB 3 個維度拆開來看會有甚麼不同的效果呢？"
   ]
  },
  {
   "cell_type": "code",
   "execution_count": null,
   "metadata": {},
   "outputs": [
    {
     "name": "stdout",
     "output_type": "stream",
     "text": [
      "(512, 512, 3)\n",
      "顯示 Blue channel\n",
      " [[125 125 133 ... 122 110  90]\n",
      " [125 125 133 ... 122 110  90]\n",
      " [125 125 133 ... 122 110  90]\n",
      " ...\n",
      " [ 60  60  58 ...  84  76  79]\n",
      " [ 57  57  62 ...  79  81  81]\n",
      " [ 57  57  62 ...  79  81  81]]\n",
      "顯示 Green channel\n",
      " [[137 137 137 ... 148 130  99]\n",
      " [137 137 137 ... 148 130  99]\n",
      " [137 137 137 ... 148 130  99]\n",
      " ...\n",
      " [ 18  18  27 ...  73  68  62]\n",
      " [ 22  22  32 ...  70  71  74]\n",
      " [ 22  22  32 ...  70  71  74]]\n",
      "顯示 Red channel\n",
      " [[226 226 223 ... 230 221 200]\n",
      " [226 226 223 ... 230 221 200]\n",
      " [226 226 223 ... 230 221 200]\n",
      " ...\n",
      " [ 84  84  92 ... 173 172 177]\n",
      " [ 82  82  96 ... 179 181 185]\n",
      " [ 82  82  96 ... 179 181 185]]\n"
     ]
    }
   ],
   "source": [
    "import cv2\n",
    "import numpy as np\n",
    "\n",
    "img_path = '../img/lena.png'\n",
    "\n",
    "# 以 BGR 三個 channel 的方式載入\n",
    "img = cv2.imread(img_path, cv2.IMREAD_COLOR)\n",
    "\n",
    "# 顯示圖片大小 (高 x 寬) 及 channel 數\n",
    "print(img.shape)\n",
    "\n",
    "# B\n",
    "B = img[...,0]\n",
    "# G\n",
    "G = img[...,1]\n",
    "# R\n",
    "R = img[...,2]\n",
    "\n",
    "print(\"顯示 Blue channel\\n\", B)\n",
    "print(\"顯示 Green channel\\n\", G)\n",
    "print(\"顯示 Red channel\\n\", R)\n",
    "\n",
    "# 複製圖片並清除其他兩個 channel\n",
    "\n",
    "blue = img.copy()\n",
    "blue[:, :, 1] = 0\n",
    "blue[:, :, 2] = 0\n",
    "green = img.copy()\n",
    "green[:, :, 0] = 0\n",
    "green[:, :, 2] = 0\n",
    "red = img.copy()\n",
    "red[:, :, 0] = 0\n",
    "red[:, :, 1] = 0\n",
    "\n",
    "# 參考解答, 並將圖片合併顯示\n",
    "img_concat = np.hstack((img[:, :, 0], img[:, :, 1], img[:, :, 2]))\n",
    "\n",
    "while True:\n",
    "    # 顯示 Blue\n",
    "    cv2.imshow('Blue', blue)\n",
    "    # 顯示 Green\n",
    "    cv2.imshow('Green', green)\n",
    "    # 顯示 Red\n",
    "    cv2.imshow('Red', red)\n",
    "    # 顯示解答\n",
    "    cv2.imshow('bgr_split', img_concat)\n",
    "\n",
    "    # 直到按下 ESC 鍵才會自動關閉視窗結束程式\n",
    "    k = cv2.waitKey(0)\n",
    "    if k == 27:\n",
    "        cv2.destroyAllWindows()\n",
    "        break"
   ]
  },
  {
   "cell_type": "code",
   "execution_count": null,
   "metadata": {},
   "outputs": [],
   "source": []
  }
 ],
 "metadata": {
  "kernelspec": {
   "display_name": "Python 3",
   "language": "python",
   "name": "python3"
  },
  "language_info": {
   "codemirror_mode": {
    "name": "ipython",
    "version": 3
   },
   "file_extension": ".py",
   "mimetype": "text/x-python",
   "name": "python",
   "nbconvert_exporter": "python",
   "pygments_lexer": "ipython3",
   "version": "3.7.5"
  }
 },
 "nbformat": 4,
 "nbformat_minor": 2
}
